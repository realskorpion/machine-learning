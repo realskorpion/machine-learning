{
 "cells": [
  {
   "cell_type": "markdown",
   "metadata": {},
   "source": [
    "# Hola mundo de machine learning"
   ]
  },
  {
   "cell_type": "markdown",
   "metadata": {},
   "source": [
    "## Nivel Principiante"
   ]
  },
  {
   "cell_type": "markdown",
   "metadata": {},
   "source": [
    "## Tiempo estimado para completarlo: 15 minutos"
   ]
  },
  {
   "cell_type": "markdown",
   "metadata": {},
   "source": [
    "## Requisitos\n",
    "* Haber leído y comprendido la sección de [requisitos generales](../../../docs/basics/requisites/requisites.md)."
   ]
  },
  {
   "cell_type": "markdown",
   "metadata": {},
   "source": [
    "## Objetivos\n",
    "\n",
    "* Comprobar que jupyter lab está correctamente instalado.\n",
    "* Dar los primeros pasos en el uso de jupyter lab.\n",
    "* Utilizar [scikit learn](https://scikit-learn.org) como biblioteca de machine learning. \n",
    "* Entrenar un modelo de machine learning y hacer predicciones con él."
   ]
  },
  {
   "cell_type": "markdown",
   "metadata": {},
   "source": [
    "## Introducción\n",
    "\n",
    "Bienvenido al primer laboratorio de machine learning.\n",
    "\n",
    "Este ejercicio supone que no sabe nada sobre aprendizaje automático.  Solo se espera que haya revisado los [requisitos generales](../../../docs/basics/requisites/requisites.md).  Si aún no lo ha hecho, lo invito a que visite esa sección antes de continuar.\n",
    "\n",
    "Si usted es principiante, no se preocupe si no comprende todos los detalles ahora mismo dado que en futuras entregas se profundizarán los temas.\n",
    "\n",
    "Si usted no es principiante, notará que se han omitido muchos pasos que se aplican en un proyecto complejo. Mantener la simplicidad es importante por la naturaleza didáctica de este material.\n",
    "\n",
    "Sin embargo, con cada laboratorio se explicarán nuevos conceptos, por lo que el nivel de complejidad crecerá gradualmente."
   ]
  },
  {
   "cell_type": "markdown",
   "metadata": {},
   "source": [
    "## Enunciado del problema\n",
    "\n",
    "Recolectamos la siguiente información (peso y textura) sobre dos tipos de frutas:  manzanas y naranjas.\n",
    "\n",
    "\n",
    "| Peso | Textura | Etiqueta |\n",
    "|------|---------|----------|\n",
    "| 150g | rugoso  | naranja  |\n",
    "| 170g | rugoso  | naranja  |\n",
    "| 140g | liso    | manzana  |\n",
    "| 130g | liso    | manzana  |\n",
    "\n",
    "En la tabla anterior, al peso y la textura se le conocen como: dimensiones, columnas, características, atributos, propiedades, variables o campos.\n",
    "\n",
    "Suponga que se le presenta una fruta rugosa que pesa 160g ¿Es una naranaja o una manzana?\n",
    "\n",
    "Utilicemos machine learning para responder a dicha pregunta."
   ]
  },
  {
   "cell_type": "markdown",
   "metadata": {},
   "source": [
    "## Solución"
   ]
  },
  {
   "cell_type": "markdown",
   "metadata": {},
   "source": [
    "Ya que contamos con un conjunto de datos etiquetados para entrenar, estamos ante un problema de **aprendizaje supervisado**.\n",
    "\n",
    "Adicionalmente, dado que la etiqueta que desea predecirse es de tipo nominal o discreta (naranja o manzana), nos enfrentamos a un problema de **clasficación**\n",
    "\n",
    "Un modelo de machine learning supervisado que puede ser utilizado para solucionar problemas de clasificación es el **árbol de decisión**."
   ]
  },
  {
   "cell_type": "markdown",
   "metadata": {},
   "source": [
    "En la biblioteca scikit learn, el árbol de decisión se conoce como DecisionTreeClassifier.  Importémoslo."
   ]
  },
  {
   "cell_type": "code",
   "execution_count": 36,
   "metadata": {},
   "outputs": [],
   "source": [
    "from sklearn.tree import DecisionTreeClassifier"
   ]
  },
  {
   "cell_type": "markdown",
   "metadata": {},
   "source": [
    "Por lo general, los modelos de aprendizaje automático supervisado de scikit learn requieren dos parámetros para poder ser entrenados:  la matriz de características y el vector de etiquetas.  Por otro lado, es necesario codificar todas las variables categóricas (ordinales o nominales)."
   ]
  },
  {
   "cell_type": "markdown",
   "metadata": {},
   "source": [
    "Primero codifiquemos y construyamos la matriz de características.  Nótese que codificaremos el valor \"liso\" como 0 y \"rugoso\" como 1."
   ]
  },
  {
   "cell_type": "code",
   "execution_count": 37,
   "metadata": {},
   "outputs": [],
   "source": [
    "# 0 = liso, 1 = rugoso, \n",
    "# características = [[150, \"rugoso\"], [170, \"rugoso\"], [140, \"liso\"], [130, \"liso\"]]\n",
    "features = [[150, 1], [170, 1], [140, 0], [130, 0]]"
   ]
  },
  {
   "cell_type": "markdown",
   "metadata": {},
   "source": [
    "A continuación se procede a codificar y construir el vector de etiquetas. Observe que codificaremos el valor \"naranja\" como 0 y \"manzana\" como 1."
   ]
  },
  {
   "cell_type": "code",
   "execution_count": 38,
   "metadata": {},
   "outputs": [],
   "source": [
    "# 0 = naranja, 1 = manzana\n",
    "# etiquetas = [\"naranja\", \"naranja\", \"manzana\", \"manzana\"]\n",
    "labels = [0, 0, 1, 1]"
   ]
  },
  {
   "cell_type": "markdown",
   "metadata": {},
   "source": [
    "Notará, el proceso de codificación es manual y propenso a errores.  En futuros laboratorios se explicarán maneras óptimas de llevar a cabo este paso.  Sin embargo, si siente curiosidad, puede leer [cómo codificar variables categóricas en scikit learn](https://scikit-learn.org/stable/modules/preprocessing.html#encoding-categorical-features)."
   ]
  },
  {
   "cell_type": "markdown",
   "metadata": {},
   "source": [
    "Ahora, construiremos un clasificador basado en un árbol de decisión. Por el momento, no es importante saber qué hace un árbol de decisión, en posteriores laboratorios se explicará éste y otros modelos."
   ]
  },
  {
   "cell_type": "code",
   "execution_count": 39,
   "metadata": {},
   "outputs": [],
   "source": [
    "model = DecisionTreeClassifier()"
   ]
  },
  {
   "cell_type": "markdown",
   "metadata": {},
   "source": [
    "Se procede a entrena el árbol de decisión con la matriz de características y el vector de etiquetas."
   ]
  },
  {
   "cell_type": "code",
   "execution_count": 43,
   "metadata": {},
   "outputs": [],
   "source": [
    "model.fit(features, labels); # hint: finalizar con punto y coma oculta el resultado de la ejecución"
   ]
  },
  {
   "cell_type": "markdown",
   "metadata": {},
   "source": [
    "Listo, el modelo ha sido entrenado.\n",
    "\n",
    "Pero antes de utilizar el modelo para predecir, recordemos cómo codificamos las distintas variables categóricas.\n",
    "\n",
    "Codificación de la textura de las frutas\n",
    "\n",
    "| Valor   | Código |\n",
    "|---------|--------|\n",
    "| liso    | 0      |\n",
    "| rugoso  | 1      |\n",
    "\n",
    "Codificación del nombre de la fruta\n",
    "\n",
    "| Valor   | Código |\n",
    "|---------|--------|\n",
    "| naranja | 0      |\n",
    "| manzana | 1      |\n",
    "\n",
    "Pidámosle al modelo que prediga qué fruta es rugosa y pesa 160g."
   ]
  },
  {
   "cell_type": "code",
   "execution_count": 41,
   "metadata": {},
   "outputs": [
    {
     "name": "stdout",
     "output_type": "stream",
     "text": [
      "[0]\n"
     ]
    }
   ],
   "source": [
    "print(model.predict([[160, 1]]))"
   ]
  },
  {
   "cell_type": "markdown",
   "metadata": {},
   "source": [
    "Nótese que el modelo predice como **naranja** (codificada como 0) una fruta que pesa 160g y que su textura es rugosa (textura que fue codificada como 1).  Hemos encontrado así la solución al problema."
   ]
  },
  {
   "cell_type": "markdown",
   "metadata": {},
   "source": [
    "Solo por curiosidad, preguntemos al modelo qué tipo de fruta es aquella que es lisa y pesa 135g."
   ]
  },
  {
   "cell_type": "code",
   "execution_count": 42,
   "metadata": {},
   "outputs": [
    {
     "name": "stdout",
     "output_type": "stream",
     "text": [
      "[1]\n"
     ]
    }
   ],
   "source": [
    "print(model.predict([[135, 0]]))"
   ]
  },
  {
   "cell_type": "markdown",
   "metadata": {},
   "source": [
    "El modelo responde que dicha fruta es una manzana, tal y como sospechábamos."
   ]
  },
  {
   "cell_type": "markdown",
   "metadata": {},
   "source": [
    "Felicitaciones ha solucionado su primer problema utilizando machine learning."
   ]
  },
  {
   "cell_type": "markdown",
   "metadata": {},
   "source": [
    "## Resumen\n",
    "\n",
    "Este laboratorio propuso un problema sencillo para ser solucionado con machine learning.\n",
    "Los problemas de machine learning nunca son tan simples, pero este pequeño ejercicio expone importantes conceptos básicos.\n",
    "Se utilizó un algoritmo de aprendizaje supervisado para predecir si un objeto es una manzana o una naranja (un problema de clasificación).\n",
    "\n",
    "Por ahora no se preocupe si no entiende porqué se creo una matriz de características, una lista de etiquetas o qué es un árbol de decisión, en futuros laboratorios se explicarán estos conceptos (y muchos otros) con detalle.\n",
    "\n",
    "Lo importante es notar que este problema se solucionó siguiendo estos pasos:\n",
    "* recolectar datos\n",
    "* entrenar un modelo\n",
    "* hacer predicciones."
   ]
  }
 ],
 "metadata": {
  "kernelspec": {
   "display_name": "Python 3",
   "language": "python",
   "name": "python3"
  },
  "language_info": {
   "codemirror_mode": {
    "name": "ipython",
    "version": 3
   },
   "file_extension": ".py",
   "mimetype": "text/x-python",
   "name": "python",
   "nbconvert_exporter": "python",
   "pygments_lexer": "ipython3",
   "version": "3.7.1"
  }
 },
 "nbformat": 4,
 "nbformat_minor": 2
}
